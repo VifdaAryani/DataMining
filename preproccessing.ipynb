{
  "nbformat": 4,
  "nbformat_minor": 0,
  "metadata": {
    "colab": {
      "name": "preproccessing.ipynb",
      "provenance": []
    },
    "kernelspec": {
      "name": "python3",
      "display_name": "Python 3"
    },
    "language_info": {
      "name": "python"
    }
  },
  "cells": [
    {
      "cell_type": "code",
      "execution_count": 1,
      "metadata": {
        "id": "eVDPV8oSi0qo"
      },
      "outputs": [],
      "source": [
        "import numpy as np\n",
        "import matplotlib.pyplot as plt\n",
        "import pandas as pd"
      ]
    },
    {
      "cell_type": "markdown",
      "source": [
        "Numpy merupakan library python digunakan untuk komputasi matriks.\n",
        "Matplotlib merupakan library python untuk presentasi data berupa grafik atau plot.\n",
        "....."
      ],
      "metadata": {
        "id": "ix0jwz5ql74U"
      }
    },
    {
      "cell_type": "code",
      "source": [
        "dataset = pd.read_csv('Dataset.csv')\n",
        "x = dataset.iloc[:, :-1].values\n",
        "y = dataset.iloc[:, -1].values"
      ],
      "metadata": {
        "id": "5rv6Ll-ymSAz"
      },
      "execution_count": 2,
      "outputs": []
    },
    {
      "cell_type": "code",
      "source": [
        "print(x)"
      ],
      "metadata": {
        "colab": {
          "base_uri": "https://localhost:8080/"
        },
        "id": "H1cTqoNBnQOO",
        "outputId": "385d1a3e-1814-4246-a95e-967dd92188a6"
      },
      "execution_count": 3,
      "outputs": [
        {
          "output_type": "stream",
          "name": "stdout",
          "text": [
            "[['Semarang' 49.0 59000.0]\n",
            " ['Solo' 32.0 49000.0]\n",
            " ['Jogja' 35.0 57000.0]\n",
            " ['Semarang' 43.0 75000.0]\n",
            " ['Solo' 45.0 nan]\n",
            " ['Jogja' 40.0 70000.0]\n",
            " ['Semarang' nan 65000.0]\n",
            " ['Solo' 53.0 69000.0]\n",
            " ['Jogja' 55.0 78000.0]\n",
            " ['Semarang' 42.0 80000.0]]\n"
          ]
        }
      ]
    },
    {
      "cell_type": "code",
      "source": [
        "print(y)"
      ],
      "metadata": {
        "colab": {
          "base_uri": "https://localhost:8080/"
        },
        "id": "RV0Pfxrvnk5H",
        "outputId": "c4dba76d-3411-4af2-ea3e-205966d77b18"
      },
      "execution_count": 4,
      "outputs": [
        {
          "output_type": "stream",
          "name": "stdout",
          "text": [
            "['Yes' 'Yes' 'No' 'No' 'Yes' 'No' 'No' 'Yes' 'No' 'Yes']\n"
          ]
        }
      ]
    },
    {
      "cell_type": "code",
      "source": [
        "from sklearn.impute import SimpleImputer\n",
        "imputer = SimpleImputer(missing_values=np.nan, strategy='mean')\n",
        "imputer.fit(x[:, 1:3])\n",
        "x[:, 1:3] = imputer.transform(x[:, 1:3])"
      ],
      "metadata": {
        "id": "ke5ZGqCNn3Cs"
      },
      "execution_count": 5,
      "outputs": []
    },
    {
      "cell_type": "code",
      "source": [
        "print(x)"
      ],
      "metadata": {
        "colab": {
          "base_uri": "https://localhost:8080/"
        },
        "id": "UKBey51iovO_",
        "outputId": "c1c4f724-087d-4e48-c6ac-887cecb9c808"
      },
      "execution_count": 6,
      "outputs": [
        {
          "output_type": "stream",
          "name": "stdout",
          "text": [
            "[['Semarang' 49.0 59000.0]\n",
            " ['Solo' 32.0 49000.0]\n",
            " ['Jogja' 35.0 57000.0]\n",
            " ['Semarang' 43.0 75000.0]\n",
            " ['Solo' 45.0 66888.88888888889]\n",
            " ['Jogja' 40.0 70000.0]\n",
            " ['Semarang' 43.77777777777778 65000.0]\n",
            " ['Solo' 53.0 69000.0]\n",
            " ['Jogja' 55.0 78000.0]\n",
            " ['Semarang' 42.0 80000.0]]\n"
          ]
        }
      ]
    },
    {
      "cell_type": "code",
      "source": [
        "from sklearn.compose import ColumnTransformer\n",
        "from sklearn.preprocessing import OneHotEncoder\n",
        "ct = ColumnTransformer(transformers=[('encorder', OneHotEncoder(), [0])], remainder='passthrough')\n",
        "x = np.array(ct.fit_transform(x))"
      ],
      "metadata": {
        "id": "2ljxqNAnpiOP"
      },
      "execution_count": 8,
      "outputs": []
    },
    {
      "cell_type": "code",
      "source": [
        "print(x)"
      ],
      "metadata": {
        "colab": {
          "base_uri": "https://localhost:8080/"
        },
        "id": "QiqF3kRZqvRn",
        "outputId": "896c277e-7a2c-4b63-e605-41f2cd9e8c56"
      },
      "execution_count": 9,
      "outputs": [
        {
          "output_type": "stream",
          "name": "stdout",
          "text": [
            "[[0.0 1.0 0.0 49.0 59000.0]\n",
            " [0.0 0.0 1.0 32.0 49000.0]\n",
            " [1.0 0.0 0.0 35.0 57000.0]\n",
            " [0.0 1.0 0.0 43.0 75000.0]\n",
            " [0.0 0.0 1.0 45.0 66888.88888888889]\n",
            " [1.0 0.0 0.0 40.0 70000.0]\n",
            " [0.0 1.0 0.0 43.77777777777778 65000.0]\n",
            " [0.0 0.0 1.0 53.0 69000.0]\n",
            " [1.0 0.0 0.0 55.0 78000.0]\n",
            " [0.0 1.0 0.0 42.0 80000.0]]\n"
          ]
        }
      ]
    },
    {
      "cell_type": "code",
      "source": [
        "from sklearn.preprocessing import LabelEncoder\n",
        "le = LabelEncoder()\n",
        "y = le.fit_transform(y)"
      ],
      "metadata": {
        "id": "ANs3ZDV7rEpI"
      },
      "execution_count": 10,
      "outputs": []
    },
    {
      "cell_type": "code",
      "source": [
        "print(y)"
      ],
      "metadata": {
        "colab": {
          "base_uri": "https://localhost:8080/"
        },
        "id": "pgUFfGGkrVZK",
        "outputId": "b0a02bcb-569c-4ba2-8301-d6384cc65d7c"
      },
      "execution_count": 11,
      "outputs": [
        {
          "output_type": "stream",
          "name": "stdout",
          "text": [
            "[1 1 0 0 1 0 0 1 0 1]\n"
          ]
        }
      ]
    },
    {
      "cell_type": "code",
      "source": [
        "from sklearn.model_selection import train_test_split\n",
        "x_train, x_test, y_train, y_test = train_test_split(x, y, test_size=0.2, random_state=1)"
      ],
      "metadata": {
        "id": "g3oV9f6BryZc"
      },
      "execution_count": 12,
      "outputs": []
    },
    {
      "cell_type": "code",
      "source": [
        "print(x_train)"
      ],
      "metadata": {
        "colab": {
          "base_uri": "https://localhost:8080/"
        },
        "id": "xDdRumGNsbN9",
        "outputId": "f635c1dd-aa7e-44a5-8e3e-bd647e1d9a3d"
      },
      "execution_count": 13,
      "outputs": [
        {
          "output_type": "stream",
          "name": "stdout",
          "text": [
            "[[0.0 1.0 0.0 43.77777777777778 65000.0]\n",
            " [0.0 0.0 1.0 45.0 66888.88888888889]\n",
            " [0.0 1.0 0.0 49.0 59000.0]\n",
            " [0.0 1.0 0.0 43.0 75000.0]\n",
            " [0.0 0.0 1.0 32.0 49000.0]\n",
            " [0.0 0.0 1.0 53.0 69000.0]\n",
            " [1.0 0.0 0.0 55.0 78000.0]\n",
            " [1.0 0.0 0.0 40.0 70000.0]]\n"
          ]
        }
      ]
    },
    {
      "cell_type": "code",
      "source": [
        "print(x_test)"
      ],
      "metadata": {
        "colab": {
          "base_uri": "https://localhost:8080/"
        },
        "id": "vWKz8f8vstC0",
        "outputId": "cd2a387e-eac1-4040-9aa9-971b28ead462"
      },
      "execution_count": 14,
      "outputs": [
        {
          "output_type": "stream",
          "name": "stdout",
          "text": [
            "[[1.0 0.0 0.0 35.0 57000.0]\n",
            " [0.0 1.0 0.0 42.0 80000.0]]\n"
          ]
        }
      ]
    },
    {
      "cell_type": "code",
      "source": [
        "print(y_train)"
      ],
      "metadata": {
        "colab": {
          "base_uri": "https://localhost:8080/"
        },
        "id": "nxhxyIwpsy10",
        "outputId": "2f6d38e9-46cf-4451-d661-67e265e8e2a4"
      },
      "execution_count": 15,
      "outputs": [
        {
          "output_type": "stream",
          "name": "stdout",
          "text": [
            "[0 1 1 0 1 1 0 0]\n"
          ]
        }
      ]
    },
    {
      "cell_type": "code",
      "source": [
        "print(y_test)"
      ],
      "metadata": {
        "colab": {
          "base_uri": "https://localhost:8080/"
        },
        "id": "TRN1GoAas28H",
        "outputId": "7ef9555c-8816-45b1-94c2-be59c6b15a6f"
      },
      "execution_count": 16,
      "outputs": [
        {
          "output_type": "stream",
          "name": "stdout",
          "text": [
            "[0 1]\n"
          ]
        }
      ]
    },
    {
      "cell_type": "code",
      "source": [
        "from sklearn.preprocessing import StandardScaler\n",
        "sc = StandardScaler()\n",
        "x_train[:, 3:] = sc.fit_transform(x_train[:, 3:])\n",
        "x_test[:, 3:] = sc.transform(x_test[:, 3:])"
      ],
      "metadata": {
        "id": "_my8MniltGwV"
      },
      "execution_count": 17,
      "outputs": []
    },
    {
      "cell_type": "code",
      "source": [
        "print(x_train)"
      ],
      "metadata": {
        "colab": {
          "base_uri": "https://localhost:8080/"
        },
        "id": "VnheSkLFt7zu",
        "outputId": "6c79f799-2e13-44e6-b4ab-67ac58ea7954"
      },
      "execution_count": 18,
      "outputs": [
        {
          "output_type": "stream",
          "name": "stdout",
          "text": [
            "[[0.0 1.0 0.0 -0.19159184384578545 -0.1733583076386543]\n",
            " [0.0 0.0 1.0 -0.014117293757057777 0.046984961883374025]\n",
            " [0.0 1.0 0.0 0.566708506533324 -0.873272222590979]\n",
            " [0.0 1.0 0.0 -0.30453019390224867 0.9931648839485535]\n",
            " [0.0 0.0 1.0 -1.9018011447007988 -2.0397954141781867]\n",
            " [0.0 0.0 1.0 1.1475343068237058 0.2932509689962288]\n",
            " [1.0 0.0 0.0 1.4379472069688968 1.343121841424716]\n",
            " [1.0 0.0 0.0 -0.7401495441200351 0.4099032881549496]]\n"
          ]
        }
      ]
    },
    {
      "cell_type": "code",
      "source": [
        "print(x_test)"
      ],
      "metadata": {
        "colab": {
          "base_uri": "https://localhost:8080/"
        },
        "id": "STOZmOQhuGWJ",
        "outputId": "cc0f0130-7a9e-4262-9443-cdbf56cd3fc0"
      },
      "execution_count": 19,
      "outputs": [
        {
          "output_type": "stream",
          "name": "stdout",
          "text": [
            "[[1.0 0.0 0.0 -1.4661817944830124 -1.1065768609084206]\n",
            " [0.0 1.0 0.0 -0.44973664397484414 1.5764264797421574]]\n"
          ]
        }
      ]
    }
  ]
}